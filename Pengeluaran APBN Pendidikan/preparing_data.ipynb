{
 "cells": [
  {
   "cell_type": "code",
   "execution_count": 1,
   "id": "15968f7a",
   "metadata": {},
   "outputs": [],
   "source": [
    "import pandas as pd\n",
    "\n",
    "df_2014 = pd.read_csv('/home/lenovo/UGM/gamadata/gamadata-3/Pengeluaran APBN Pendidikan/source/Tabel Anggaran Belanja Pemerintah Pusat Berdasarkan Fungsi, 2014.csv')\n",
    "df_2015 = pd.read_csv('/home/lenovo/UGM/gamadata/gamadata-3/Pengeluaran APBN Pendidikan/source/Tabel Anggaran Belanja Pemerintah Pusat Berdasarkan Fungsi, 2015.csv')\n",
    "df_2016 = pd.read_csv('/home/lenovo/UGM/gamadata/gamadata-3/Pengeluaran APBN Pendidikan/source/Tabel Anggaran Belanja Pemerintah Pusat Berdasarkan Fungsi, 2016.csv')\n",
    "df_2017 = pd.read_csv('/home/lenovo/UGM/gamadata/gamadata-3/Pengeluaran APBN Pendidikan/source/Tabel Anggaran Belanja Pemerintah Pusat Berdasarkan Fungsi, 2017.csv')\n",
    "df_2018 = pd.read_csv('/home/lenovo/UGM/gamadata/gamadata-3/Pengeluaran APBN Pendidikan/source/Tabel Anggaran Belanja Pemerintah Pusat Berdasarkan Fungsi, 2018.csv')\n",
    "df_2019 = pd.read_csv('/home/lenovo/UGM/gamadata/gamadata-3/Pengeluaran APBN Pendidikan/source/Tabel Anggaran Belanja Pemerintah Pusat Berdasarkan Fungsi, 2019.csv')\n",
    "df_2020 = pd.read_csv('/home/lenovo/UGM/gamadata/gamadata-3/Pengeluaran APBN Pendidikan/source/Tabel Anggaran Belanja Pemerintah Pusat Berdasarkan Fungsi, 2020.csv')\n",
    "df_2021 = pd.read_csv('/home/lenovo/UGM/gamadata/gamadata-3/Pengeluaran APBN Pendidikan/source/Tabel Anggaran Belanja Pemerintah Pusat Berdasarkan Fungsi, 2021.csv')\n",
    "df_2022 = pd.read_csv('/home/lenovo/UGM/gamadata/gamadata-3/Pengeluaran APBN Pendidikan/source/Tabel Anggaran Belanja Pemerintah Pusat Berdasarkan Fungsi, 2022.csv')\n",
    "df_2023 = pd.read_csv('/home/lenovo/UGM/gamadata/gamadata-3/Pengeluaran APBN Pendidikan/source/Tabel Anggaran Belanja Pemerintah Pusat Berdasarkan Fungsi, 2023.csv')\n",
    "df_2024 = pd.read_csv('/home/lenovo/UGM/gamadata/gamadata-3/Pengeluaran APBN Pendidikan/source/Tabel Anggaran Belanja Pemerintah Pusat Berdasarkan Fungsi, 2024.csv')"
   ]
  },
  {
   "cell_type": "code",
   "execution_count": 6,
   "id": "b85d8d38",
   "metadata": {},
   "outputs": [
    {
     "data": {
      "application/vnd.microsoft.datawrangler.viewer.v0+json": {
       "columns": [
        {
         "name": "index",
         "rawType": "int64",
         "type": "integer"
        },
        {
         "name": "Fungsi APBN",
         "rawType": "object",
         "type": "unknown"
        },
        {
         "name": "Unnamed: 1",
         "rawType": "object",
         "type": "string"
        }
       ],
       "ref": "1a03f517-dd27-4201-8310-7dae5606bfa8",
       "rows": [
        [
         "0",
         null,
         "Tabel Anggaran Belanja Pemerintah Pusat Berdasarkan Fungsi (Milyar Rupiah)"
        ],
        [
         "1",
         null,
         "2015"
        ],
        [
         "2",
         "Pelayanan umum",
         "891768"
        ],
        [
         "3",
         "Pertahanan",
         "96824"
        ],
        [
         "4",
         "Ketertiban dan keamanan",
         "46138"
        ],
        [
         "5",
         "Ekonomi",
         "143526"
        ],
        [
         "6",
         "Lingkungan hidup",
         "10679"
        ],
        [
         "7",
         "Perumahan dan fasilitas umum",
         "20466"
        ],
        [
         "8",
         "Kesehatan",
         "21113"
        ],
        [
         "9",
         "Pariwisata dan budaya",
         "1926"
        ],
        [
         "10",
         "Agama",
         "5290"
        ],
        [
         "11",
         "Pendidikan",
         "146393"
        ],
        [
         "12",
         "Perlindungan sosial",
         "8319"
        ],
        [
         "13",
         "Jumlah",
         "1392442"
        ]
       ],
       "shape": {
        "columns": 2,
        "rows": 14
       }
      },
      "text/html": [
       "<div>\n",
       "<style scoped>\n",
       "    .dataframe tbody tr th:only-of-type {\n",
       "        vertical-align: middle;\n",
       "    }\n",
       "\n",
       "    .dataframe tbody tr th {\n",
       "        vertical-align: top;\n",
       "    }\n",
       "\n",
       "    .dataframe thead th {\n",
       "        text-align: right;\n",
       "    }\n",
       "</style>\n",
       "<table border=\"1\" class=\"dataframe\">\n",
       "  <thead>\n",
       "    <tr style=\"text-align: right;\">\n",
       "      <th></th>\n",
       "      <th>Fungsi APBN</th>\n",
       "      <th>Unnamed: 1</th>\n",
       "    </tr>\n",
       "  </thead>\n",
       "  <tbody>\n",
       "    <tr>\n",
       "      <th>0</th>\n",
       "      <td>NaN</td>\n",
       "      <td>Tabel Anggaran Belanja Pemerintah Pusat Berdas...</td>\n",
       "    </tr>\n",
       "    <tr>\n",
       "      <th>1</th>\n",
       "      <td>NaN</td>\n",
       "      <td>2015</td>\n",
       "    </tr>\n",
       "    <tr>\n",
       "      <th>2</th>\n",
       "      <td>Pelayanan umum</td>\n",
       "      <td>891768</td>\n",
       "    </tr>\n",
       "    <tr>\n",
       "      <th>3</th>\n",
       "      <td>Pertahanan</td>\n",
       "      <td>96824</td>\n",
       "    </tr>\n",
       "    <tr>\n",
       "      <th>4</th>\n",
       "      <td>Ketertiban dan keamanan</td>\n",
       "      <td>46138</td>\n",
       "    </tr>\n",
       "    <tr>\n",
       "      <th>5</th>\n",
       "      <td>Ekonomi</td>\n",
       "      <td>143526</td>\n",
       "    </tr>\n",
       "    <tr>\n",
       "      <th>6</th>\n",
       "      <td>Lingkungan hidup</td>\n",
       "      <td>10679</td>\n",
       "    </tr>\n",
       "    <tr>\n",
       "      <th>7</th>\n",
       "      <td>Perumahan dan fasilitas umum</td>\n",
       "      <td>20466</td>\n",
       "    </tr>\n",
       "    <tr>\n",
       "      <th>8</th>\n",
       "      <td>Kesehatan</td>\n",
       "      <td>21113</td>\n",
       "    </tr>\n",
       "    <tr>\n",
       "      <th>9</th>\n",
       "      <td>Pariwisata dan budaya</td>\n",
       "      <td>1926</td>\n",
       "    </tr>\n",
       "    <tr>\n",
       "      <th>10</th>\n",
       "      <td>Agama</td>\n",
       "      <td>5290</td>\n",
       "    </tr>\n",
       "    <tr>\n",
       "      <th>11</th>\n",
       "      <td>Pendidikan</td>\n",
       "      <td>146393</td>\n",
       "    </tr>\n",
       "    <tr>\n",
       "      <th>12</th>\n",
       "      <td>Perlindungan sosial</td>\n",
       "      <td>8319</td>\n",
       "    </tr>\n",
       "    <tr>\n",
       "      <th>13</th>\n",
       "      <td>Jumlah</td>\n",
       "      <td>1392442</td>\n",
       "    </tr>\n",
       "  </tbody>\n",
       "</table>\n",
       "</div>"
      ],
      "text/plain": [
       "                     Fungsi APBN  \\\n",
       "0                            NaN   \n",
       "1                            NaN   \n",
       "2                 Pelayanan umum   \n",
       "3                     Pertahanan   \n",
       "4        Ketertiban dan keamanan   \n",
       "5                        Ekonomi   \n",
       "6               Lingkungan hidup   \n",
       "7   Perumahan dan fasilitas umum   \n",
       "8                      Kesehatan   \n",
       "9          Pariwisata dan budaya   \n",
       "10                         Agama   \n",
       "11                    Pendidikan   \n",
       "12           Perlindungan sosial   \n",
       "13                        Jumlah   \n",
       "\n",
       "                                           Unnamed: 1  \n",
       "0   Tabel Anggaran Belanja Pemerintah Pusat Berdas...  \n",
       "1                                                2015  \n",
       "2                                              891768  \n",
       "3                                               96824  \n",
       "4                                               46138  \n",
       "5                                              143526  \n",
       "6                                               10679  \n",
       "7                                               20466  \n",
       "8                                               21113  \n",
       "9                                                1926  \n",
       "10                                               5290  \n",
       "11                                             146393  \n",
       "12                                               8319  \n",
       "13                                            1392442  "
      ]
     },
     "execution_count": 6,
     "metadata": {},
     "output_type": "execute_result"
    }
   ],
   "source": [
    "df_2015"
   ]
  },
  {
   "cell_type": "code",
   "execution_count": null,
   "id": "8541caae",
   "metadata": {},
   "outputs": [
    {
     "data": {
      "application/vnd.microsoft.datawrangler.viewer.v0+json": {
       "columns": [
        {
         "name": "index",
         "rawType": "int64",
         "type": "integer"
        },
        {
         "name": "tahun",
         "rawType": "int64",
         "type": "integer"
        },
        {
         "name": "anggaran_belanja_pemerintah",
         "rawType": "object",
         "type": "string"
        }
       ],
       "ref": "f3d18284-fc72-4281-92c0-ee40623c6b4c",
       "rows": [
        [
         "0",
         "2014",
         "131314"
        ],
        [
         "1",
         "2015",
         "146393"
        ],
        [
         "2",
         "2016",
         "150090"
        ],
        [
         "3",
         "2017",
         "143134"
        ],
        [
         "4",
         "2018",
         "147562"
        ],
        [
         "5",
         "2019",
         "152690"
        ],
        [
         "6",
         "2020",
         "156894.4"
        ],
        [
         "7",
         "2021",
         "175236.5"
        ],
        [
         "8",
         "2022",
         "169230.4"
        ],
        [
         "9",
         "2023",
         "230728.4"
        ],
        [
         "10",
         "2024",
         "225072.8"
        ]
       ],
       "shape": {
        "columns": 2,
        "rows": 11
       }
      },
      "text/html": [
       "<div>\n",
       "<style scoped>\n",
       "    .dataframe tbody tr th:only-of-type {\n",
       "        vertical-align: middle;\n",
       "    }\n",
       "\n",
       "    .dataframe tbody tr th {\n",
       "        vertical-align: top;\n",
       "    }\n",
       "\n",
       "    .dataframe thead th {\n",
       "        text-align: right;\n",
       "    }\n",
       "</style>\n",
       "<table border=\"1\" class=\"dataframe\">\n",
       "  <thead>\n",
       "    <tr style=\"text-align: right;\">\n",
       "      <th></th>\n",
       "      <th>tahun</th>\n",
       "      <th>anggaran_belanja_pemerintah</th>\n",
       "    </tr>\n",
       "  </thead>\n",
       "  <tbody>\n",
       "    <tr>\n",
       "      <th>0</th>\n",
       "      <td>2014</td>\n",
       "      <td>131314</td>\n",
       "    </tr>\n",
       "    <tr>\n",
       "      <th>1</th>\n",
       "      <td>2015</td>\n",
       "      <td>146393</td>\n",
       "    </tr>\n",
       "    <tr>\n",
       "      <th>2</th>\n",
       "      <td>2016</td>\n",
       "      <td>150090</td>\n",
       "    </tr>\n",
       "    <tr>\n",
       "      <th>3</th>\n",
       "      <td>2017</td>\n",
       "      <td>143134</td>\n",
       "    </tr>\n",
       "    <tr>\n",
       "      <th>4</th>\n",
       "      <td>2018</td>\n",
       "      <td>147562</td>\n",
       "    </tr>\n",
       "    <tr>\n",
       "      <th>5</th>\n",
       "      <td>2019</td>\n",
       "      <td>152690</td>\n",
       "    </tr>\n",
       "    <tr>\n",
       "      <th>6</th>\n",
       "      <td>2020</td>\n",
       "      <td>156894.4</td>\n",
       "    </tr>\n",
       "    <tr>\n",
       "      <th>7</th>\n",
       "      <td>2021</td>\n",
       "      <td>175236.5</td>\n",
       "    </tr>\n",
       "    <tr>\n",
       "      <th>8</th>\n",
       "      <td>2022</td>\n",
       "      <td>169230.4</td>\n",
       "    </tr>\n",
       "    <tr>\n",
       "      <th>9</th>\n",
       "      <td>2023</td>\n",
       "      <td>230728.4</td>\n",
       "    </tr>\n",
       "    <tr>\n",
       "      <th>10</th>\n",
       "      <td>2024</td>\n",
       "      <td>225072.8</td>\n",
       "    </tr>\n",
       "  </tbody>\n",
       "</table>\n",
       "</div>"
      ],
      "text/plain": [
       "    tahun anggaran_belanja_pemerintah\n",
       "0    2014                      131314\n",
       "1    2015                      146393\n",
       "2    2016                      150090\n",
       "3    2017                      143134\n",
       "4    2018                      147562\n",
       "5    2019                      152690\n",
       "6    2020                    156894.4\n",
       "7    2021                    175236.5\n",
       "8    2022                    169230.4\n",
       "9    2023                    230728.4\n",
       "10   2024                    225072.8"
      ]
     },
     "execution_count": 7,
     "metadata": {},
     "output_type": "execute_result"
    }
   ],
   "source": [
    "\n",
    "data = []\n",
    "for year, df in zip(\n",
    "    range(2014, 2025),\n",
    "    [df_2014, df_2015, df_2016, df_2017, df_2018, df_2019, df_2020, df_2021, df_2022, df_2023, df_2024]\n",
    "):\n",
    "    pendidikan_row = df[df['Fungsi APBN'] == 'Pendidikan']\n",
    "    anggaran = pendidikan_row['Unnamed: 1'].values[0] if not pendidikan_row.empty else None\n",
    "    data.append((year, anggaran))\n",
    "\n",
    "df_pendidikan_2014_2024 = pd.DataFrame(data, columns=['tahun', 'anggaran_belanja_pemerintah'])\n",
    "df_pendidikan_2014_2024"
   ]
  },
  {
   "cell_type": "code",
   "execution_count": 9,
   "id": "333aefb4",
   "metadata": {},
   "outputs": [
    {
     "name": "stdout",
     "output_type": "stream",
     "text": [
      "<class 'pandas.core.frame.DataFrame'>\n",
      "RangeIndex: 11 entries, 0 to 10\n",
      "Data columns (total 2 columns):\n",
      " #   Column                       Non-Null Count  Dtype  \n",
      "---  ------                       --------------  -----  \n",
      " 0   tahun                        11 non-null     int64  \n",
      " 1   anggaran_belanja_pemerintah  11 non-null     float64\n",
      "dtypes: float64(1), int64(1)\n",
      "memory usage: 308.0 bytes\n"
     ]
    }
   ],
   "source": [
    "df_pendidikan_2014_2024['anggaran_belanja_pemerintah'] = pd.to_numeric(df_pendidikan_2014_2024['anggaran_belanja_pemerintah'], errors='coerce')\n",
    "df_pendidikan_2014_2024.info()"
   ]
  },
  {
   "cell_type": "code",
   "execution_count": 11,
   "id": "0e6f56ee",
   "metadata": {},
   "outputs": [],
   "source": [
    "df_pendidikan_2014_2024.to_csv('./data/pengeluaran_apbn_pendidikan_2014_2024.csv', index=False)"
   ]
  }
 ],
 "metadata": {
  "kernelspec": {
   "display_name": "Python 3.11 (myenv)",
   "language": "python",
   "name": "myenv"
  },
  "language_info": {
   "codemirror_mode": {
    "name": "ipython",
    "version": 3
   },
   "file_extension": ".py",
   "mimetype": "text/x-python",
   "name": "python",
   "nbconvert_exporter": "python",
   "pygments_lexer": "ipython3",
   "version": "3.12.2"
  }
 },
 "nbformat": 4,
 "nbformat_minor": 5
}
